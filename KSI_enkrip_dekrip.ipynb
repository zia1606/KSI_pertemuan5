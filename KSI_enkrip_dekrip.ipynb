{
  "nbformat": 4,
  "nbformat_minor": 0,
  "metadata": {
    "colab": {
      "provenance": []
    },
    "kernelspec": {
      "name": "python3",
      "display_name": "Python 3"
    },
    "language_info": {
      "name": "python"
    }
  },
  "cells": [
    {
      "cell_type": "markdown",
      "source": [
        "# **PENUGASAN PERTEMUAN 5**\n",
        "### Nama: Fauziah Filda Mufarihati\n",
        "### Kelas: 3SI2\n",
        "### NIM: 222112055"
      ],
      "metadata": {
        "id": "-_BSqeacOX4D"
      }
    },
    {
      "cell_type": "markdown",
      "source": [
        "## Encrypt Transposition"
      ],
      "metadata": {
        "id": "VFyI6pvaOg3r"
      }
    },
    {
      "cell_type": "code",
      "execution_count": 9,
      "metadata": {
        "colab": {
          "base_uri": "https://localhost:8080/"
        },
        "id": "0tb2gkvHtS5T",
        "outputId": "453f44a5-5eb5-47d8-c115-3be694746be9"
      },
      "outputs": [
        {
          "output_type": "stream",
          "name": "stdout",
          "text": [
            "Masukkan pesan untuk dienkripsi: polstatstis\n",
            "Masukkan kunci [2-6]: 4\n",
            "Cipher Text: pttoailtsss\n"
          ]
        }
      ],
      "source": [
        "def encrypt_transposition(plaintext, key):\n",
        "    cipher_text = \"\"\n",
        "    for i in range(key):\n",
        "        j = i\n",
        "        while j < len(plaintext):\n",
        "            cipher_text += plaintext[j]\n",
        "            j += key\n",
        "    return cipher_text\n",
        "\n",
        "# Menerima input dari pengguna\n",
        "plaintext = input(\"Masukkan pesan untuk dienkripsi: \")\n",
        "max_key = (len(plaintext) + 1) // 2\n",
        "key = int(input(\"Masukkan kunci [2-%s]: \" % max_key))\n",
        "# key = int(input(\"Masukkan kunci: \"))\n",
        "cipher_text = encrypt_transposition(plaintext, key)\n",
        "print(\"Cipher Text:\", cipher_text)"
      ]
    },
    {
      "cell_type": "markdown",
      "source": [
        "## Decrypt Transposition"
      ],
      "metadata": {
        "id": "P3JSTbHtOoPr"
      }
    },
    {
      "cell_type": "code",
      "source": [
        "def decrypt_transposition(cipher_text, key):\n",
        "    # Menghitung jumlah kolom dan baris\n",
        "    num_cols = (len(cipher_text) + key - 1) // key\n",
        "    num_rows = (len(cipher_text) + num_cols - 1) // num_cols\n",
        "    num_shaded_boxes = (num_cols * num_rows) - len(cipher_text)\n",
        "\n",
        "    # Membuat list kosong untuk menyimpan teks terdekripsi\n",
        "    plaintext = [''] * num_cols\n",
        "    col = 0\n",
        "    row = 0\n",
        "\n",
        "    # Memproses teks terenkripsi\n",
        "    for symbol in cipher_text:\n",
        "        plaintext[col] += symbol\n",
        "        col += 1\n",
        "\n",
        "        # Mengatur ulang kolom dan baris jika sudah mencapai batas\n",
        "        if (col == num_cols) or (col == num_cols - 1 and row >= num_rows - num_shaded_boxes):\n",
        "            col = 0\n",
        "            row += 1\n",
        "\n",
        "    return ''.join(plaintext)\n",
        "\n",
        "# Input dari pengguna\n",
        "cipher_text_input = input(\"Masukkan cipher text untuk didekripsi: \")\n",
        "max_key = (len(cipher_text_input) + 1) // 2\n",
        "key_input = int(input(\"Masukkan kunci [2-%s]: \" % max_key))\n",
        "\n",
        "# Dekripsi\n",
        "decrypted_text = decrypt_transposition(cipher_text_input, key_input)\n",
        "print(\"Decrypted Text:\", decrypted_text)"
      ],
      "metadata": {
        "colab": {
          "base_uri": "https://localhost:8080/"
        },
        "id": "9bvZSlSBtzqv",
        "outputId": "890760fe-3c3b-4f8f-f4cd-625a045a67fe"
      },
      "execution_count": 10,
      "outputs": [
        {
          "output_type": "stream",
          "name": "stdout",
          "text": [
            "Masukkan cipher text untuk didekripsi: polstatstis\n",
            "Masukkan kunci [2-6]: 4\n",
            "Decrypted Text: pstiotsslat\n"
          ]
        }
      ]
    },
    {
      "cell_type": "markdown",
      "source": [
        "## Encrypt Subsitution"
      ],
      "metadata": {
        "id": "8kpVnTJhOuZA"
      }
    },
    {
      "cell_type": "code",
      "source": [
        "def encrypt_caesar(plaintext, shift):\n",
        "    cipher_text = \"\"\n",
        "    for char in plaintext:\n",
        "        if char.isalpha():\n",
        "            if char.islower():\n",
        "                cipher_text += chr((ord(char) - ord('a' ) + shift) % 26 + ord('a'))\n",
        "            else:\n",
        "                cipher_text += chr((ord(char) - ord('A' ) + shift) % 26 + ord('A'))\n",
        "        else:\n",
        "            cipher_text += char\n",
        "    return cipher_text\n",
        "\n",
        "# Menerima input dari pengguna\n",
        "plaintext = input(\"Masukkan pesan untuk dienkripsi: \")\n",
        "shift = int(input(\"Masukkan nilai pergeseran (shift): \"))\n",
        "cipher_text_caesar = encrypt_caesar(plaintext, shift)\n",
        "print(\"Caesar Cipher Text:\", cipher_text_caesar)"
      ],
      "metadata": {
        "colab": {
          "base_uri": "https://localhost:8080/"
        },
        "id": "zgWWHxmy1aMP",
        "outputId": "57aa8cab-00f5-41a1-b031-f04f34fe2840"
      },
      "execution_count": 11,
      "outputs": [
        {
          "output_type": "stream",
          "name": "stdout",
          "text": [
            "Masukkan pesan untuk dienkripsi: polstatstis\n",
            "Masukkan nilai pergeseran (shift): 3\n",
            "Caesar Cipher Text: srovwdwvwlv\n"
          ]
        }
      ]
    },
    {
      "cell_type": "markdown",
      "source": [
        "## Decrypt Transposition"
      ],
      "metadata": {
        "id": "yw8tySPkOwtj"
      }
    },
    {
      "cell_type": "code",
      "source": [
        "def decrypt_caesar(cipher_text, shift):\n",
        "    return encrypt_caesar(cipher_text, -shift)\n",
        "\n",
        "# Menerima input dari pengguna\n",
        "cipher_text_caesar = input(\"Masukkan cipher text untuk didekripsi: \")\n",
        "shift = int(input(\"Masukkan nilai pergeseran (shift): \"))\n",
        "decrypted_text_caesar = decrypt_caesar(cipher_text_caesar, shift)\n",
        "print(\"Decrypted Caesar Cipher Text:\", decrypted_text_caesar)"
      ],
      "metadata": {
        "colab": {
          "base_uri": "https://localhost:8080/"
        },
        "id": "AoQHRDok1fwD",
        "outputId": "039be3f1-97ee-49d0-e883-14418be5d273"
      },
      "execution_count": 3,
      "outputs": [
        {
          "output_type": "stream",
          "name": "stdout",
          "text": [
            "Masukkan cipher text untuk didekripsi: srovwdwvwlv\n",
            "Masukkan nilai pergeseran (shift): 3\n",
            "Decrypted Caesar Cipher Text: polstatstis\n"
          ]
        }
      ]
    },
    {
      "cell_type": "code",
      "source": [
        "def decrypt_caesar(ciphertext, shift):\n",
        "    plain_text = \"\"\n",
        "    for char in ciphertext:\n",
        "        if char.isalpha():\n",
        "            if char.islower():\n",
        "                plain_text += chr((ord(char) - ord('a' ) - shift) % 26 + ord('a'))\n",
        "            else:\n",
        "                plain_text += chr((ord(char) - ord('A' ) - shift) % 26 + ord('A'))\n",
        "        else:\n",
        "            plain_text += char\n",
        "    return plain_text\n",
        "\n",
        "# Menerima input dari pengguna\n",
        "cipher_text_caesar = input(\"Masukkan pesan untuk didekripsi: \")\n",
        "shift = int(input(\"Masukkan nilai pergeseran (shift): \"))\n",
        "decrypted_text_caesar = decrypt_caesar(cipher_text_caesar, shift)\n",
        "print(\"Caesar Decrypted Text:\", decrypted_text_caesar)"
      ],
      "metadata": {
        "colab": {
          "base_uri": "https://localhost:8080/"
        },
        "id": "sUirx6TEOSla",
        "outputId": "563fb7be-fdac-4b40-d4bd-0972fd3b9d7a"
      },
      "execution_count": 12,
      "outputs": [
        {
          "output_type": "stream",
          "name": "stdout",
          "text": [
            "Masukkan pesan untuk didekripsi: srovwdwvwlv\n",
            "Masukkan nilai pergeseran (shift): 3\n",
            "Caesar Decrypted Text: polstatstis\n"
          ]
        }
      ]
    }
  ]
}